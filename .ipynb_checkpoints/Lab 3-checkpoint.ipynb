{
 "metadata": {
  "name": ""
 },
 "nbformat": 3,
 "nbformat_minor": 0,
 "worksheets": [
  {
   "cells": [
    {
     "cell_type": "code",
     "collapsed": false,
     "input": [
      "import csv\n",
      "\n",
      "f = open(\"cig.csv\",\"rb\")\n",
      "r=csv.reader(f)\n",
      "\n",
      "a1=[]\n",
      "a2=[]\n",
      "\n",
      "for raw in r:\n",
      "    raw = raw[0].split()\n",
      "    raw=raw[1:]\n",
      "    raw=map(float,raw)\n",
      "    a1.append(raw[0])\n",
      "    a2.append(raw[1])\n",
      "    \n",
      "f.close()\n",
      "from pylab import*\n",
      "\n",
      "fig = plt.figure()\n",
      "\n",
      "ax = fig.add_subplot(111)\n",
      "\n",
      "ax.set_title('axes title')\n",
      "ax.set_xlabel('xshisha')\n",
      "ax.set_ylabel('yshisha')\n",
      "\n",
      "scatter(a1,a2)"
     ],
     "language": "python",
     "metadata": {},
     "outputs": [
      {
       "metadata": {},
       "output_type": "pyout",
       "prompt_number": 1,
       "text": [
        "<matplotlib.collections.PathCollection at 0xaa82f2c>"
       ]
      }
     ],
     "prompt_number": 1
    },
    {
     "cell_type": "code",
     "collapsed": false,
     "input": [],
     "language": "python",
     "metadata": {},
     "outputs": [],
     "prompt_number": 1
    },
    {
     "cell_type": "code",
     "collapsed": false,
     "input": [],
     "language": "python",
     "metadata": {},
     "outputs": []
    }
   ],
   "metadata": {}
  }
 ]
}